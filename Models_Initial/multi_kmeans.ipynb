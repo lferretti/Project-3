{
 "cells": [
  {
   "cell_type": "code",
   "execution_count": 9,
   "metadata": {},
   "outputs": [],
   "source": [
    "# load dependencies\n",
    "import matplotlib.pyplot as plt\n",
    "import numpy as np\n",
    "import pandas as pd"
   ]
  },
  {
   "cell_type": "code",
   "execution_count": 10,
   "metadata": {},
   "outputs": [],
   "source": [
    "# Load data and select trainging hour and test hour\n",
    "df = pd.read_csv('series.csv')\n",
    "cols5 = ['21', '22', '23', '24', '25']\n",
    "cols10 = ['21', '22', '23', '24', '25', '26', '27', '28', '29', '30']\n",
    "df['sum5'] = df[cols5].sum(axis=1)\n",
    "df['sum10'] = df[cols10].sum(axis=1)\n",
    "\n",
    "trainhour = 6\n",
    "testhour = 8\n",
    "testdata = df.drop(df[(df['hour'] != testhour)].index)\n",
    "data = df.drop(df[(df['hour'] != trainhour)].index)\n",
    "del df\n",
    "\n",
    "# Set clusters\n",
    "k = 6"
   ]
  },
  {
   "cell_type": "code",
   "execution_count": 11,
   "metadata": {},
   "outputs": [
    {
     "data": {
      "image/png": "[encoded data removed]",
      "text/plain": [
       "<Figure size 432x288 with 2 Axes>"
      ]
     },
     "metadata": {
      "needs_background": "light"
     },
     "output_type": "display_data"
    }
   ],
   "source": [
    "# Plot Histograms\n",
    "plt.subplot(1,2,1)\n",
    "plt.hist(data[\"Change\"], 20, facecolor='blue', alpha=0.5)\n",
    "plt.subplot(1,2,2)\n",
    "plt.hist(data[\"Change\"], 20, facecolor='blue', alpha=0.5)\n",
    "plt.show()"
   ]
  },
  {
   "cell_type": "code",
   "execution_count": 12,
   "metadata": {},
   "outputs": [],
   "source": [
    "# Create model\n",
    "from sklearn.cluster import KMeans\n",
    "kmeans = KMeans(n_clusters=k)"
   ]
  },
  {
   "cell_type": "code",
   "execution_count": 13,
   "metadata": {},
   "outputs": [
    {
     "data": {
      "text/plain": [
       "KMeans(algorithm='auto', copy_x=True, init='k-means++', max_iter=300,\n",
       "    n_clusters=6, n_init=10, n_jobs=None, precompute_distances='auto',\n",
       "    random_state=None, tol=0.0001, verbose=0)"
      ]
     },
     "execution_count": 13,
     "metadata": {},
     "output_type": "execute_result"
    }
   ],
   "source": [
    "# Get data and fit model\n",
    "X = data.iloc[:,8:28].to_numpy()\n",
    "kmeans.fit(data)"
   ]
  },
  {
   "cell_type": "code",
   "execution_count": 14,
   "metadata": {},
   "outputs": [],
   "source": [
    "# Get group assignments for fitted data and test data\n",
    "data[\"fit\"] = kmeans.labels_\n",
    "X_test = testdata.iloc[:,8:28].to_numpy()\n",
    "testdata['fit'] = kmeans.fit_predict(X_test)"
   ]
  },
  {
   "cell_type": "code",
   "execution_count": 15,
   "metadata": {},
   "outputs": [],
   "source": [
    "# Group by to summarize on the assigned ('fit') column\n",
    "data_group = data.groupby('fit').agg(['sum','count', 'min', 'max'])\n",
    "test_group = testdata.groupby('fit').agg(['sum','count', 'min', 'max'])"
   ]
  },
  {
   "cell_type": "code",
   "execution_count": 16,
   "metadata": {},
   "outputs": [
    {
     "data": {
      "text/html": [
       "<div>\n",
       "<style scoped>\n",
       "    .dataframe tbody tr th:only-of-type {\n",
       "        vertical-align: middle;\n",
       "    }\n",
       "\n",
       "    .dataframe tbody tr th {\n",
       "        vertical-align: top;\n",
       "    }\n",
       "\n",
       "    .dataframe thead th {\n",
       "        text-align: right;\n",
       "    }\n",
       "</style>\n",
       "<table border=\"1\" class=\"dataframe\">\n",
       "  <thead>\n",
       "    <tr style=\"text-align: right;\">\n",
       "      <th></th>\n",
       "      <th>sum</th>\n",
       "      <th>count</th>\n",
       "      <th>min</th>\n",
       "      <th>max</th>\n",
       "      <th>sum</th>\n",
       "      <th>count</th>\n",
       "      <th>min</th>\n",
       "      <th>max</th>\n",
       "    </tr>\n",
       "    <tr>\n",
       "      <th>fit</th>\n",
       "      <th></th>\n",
       "      <th></th>\n",
       "      <th></th>\n",
       "      <th></th>\n",
       "      <th></th>\n",
       "      <th></th>\n",
       "      <th></th>\n",
       "      <th></th>\n",
       "    </tr>\n",
       "  </thead>\n",
       "  <tbody>\n",
       "    <tr>\n",
       "      <th>0</th>\n",
       "      <td>-839.0</td>\n",
       "      <td>2580</td>\n",
       "      <td>-16.9</td>\n",
       "      <td>20.0</td>\n",
       "      <td>173.9</td>\n",
       "      <td>2477</td>\n",
       "      <td>-95.0</td>\n",
       "      <td>45.9</td>\n",
       "    </tr>\n",
       "    <tr>\n",
       "      <th>1</th>\n",
       "      <td>-101.9</td>\n",
       "      <td>2634</td>\n",
       "      <td>-21.1</td>\n",
       "      <td>34.6</td>\n",
       "      <td>-290.6</td>\n",
       "      <td>2699</td>\n",
       "      <td>-45.0</td>\n",
       "      <td>49.8</td>\n",
       "    </tr>\n",
       "    <tr>\n",
       "      <th>2</th>\n",
       "      <td>195.0</td>\n",
       "      <td>2640</td>\n",
       "      <td>-16.5</td>\n",
       "      <td>22.9</td>\n",
       "      <td>549.4</td>\n",
       "      <td>2515</td>\n",
       "      <td>-45.4</td>\n",
       "      <td>48.0</td>\n",
       "    </tr>\n",
       "    <tr>\n",
       "      <th>3</th>\n",
       "      <td>319.4</td>\n",
       "      <td>2580</td>\n",
       "      <td>-17.5</td>\n",
       "      <td>24.2</td>\n",
       "      <td>123.7</td>\n",
       "      <td>2630</td>\n",
       "      <td>-51.1</td>\n",
       "      <td>50.2</td>\n",
       "    </tr>\n",
       "    <tr>\n",
       "      <th>4</th>\n",
       "      <td>-1734.5</td>\n",
       "      <td>2580</td>\n",
       "      <td>-25.7</td>\n",
       "      <td>20.2</td>\n",
       "      <td>426.1</td>\n",
       "      <td>2726</td>\n",
       "      <td>-33.0</td>\n",
       "      <td>54.4</td>\n",
       "    </tr>\n",
       "    <tr>\n",
       "      <th>5</th>\n",
       "      <td>-778.9</td>\n",
       "      <td>2520</td>\n",
       "      <td>-21.2</td>\n",
       "      <td>32.9</td>\n",
       "      <td>461.3</td>\n",
       "      <td>2479</td>\n",
       "      <td>-43.5</td>\n",
       "      <td>48.1</td>\n",
       "    </tr>\n",
       "  </tbody>\n",
       "</table>\n",
       "</div>"
      ],
      "text/plain": [
       "        sum  count   min   max    sum  count   min   max\n",
       "fit                                                     \n",
       "0    -839.0   2580 -16.9  20.0  173.9   2477 -95.0  45.9\n",
       "1    -101.9   2634 -21.1  34.6 -290.6   2699 -45.0  49.8\n",
       "2     195.0   2640 -16.5  22.9  549.4   2515 -45.4  48.0\n",
       "3     319.4   2580 -17.5  24.2  123.7   2630 -51.1  50.2\n",
       "4   -1734.5   2580 -25.7  20.2  426.1   2726 -33.0  54.4\n",
       "5    -778.9   2520 -21.2  32.9  461.3   2479 -43.5  48.1"
      ]
     },
     "execution_count": 16,
     "metadata": {},
     "output_type": "execute_result"
    }
   ],
   "source": [
    "# Combine and print summary by group\n",
    "result = pd.concat([data_group['sum10'], test_group['sum10']], axis=1, sort=False)\n",
    "result"
   ]
  },
  {
   "cell_type": "code",
   "execution_count": null,
   "metadata": {},
   "outputs": [],
   "source": []
  }
 ],
 "metadata": {
  "kernelspec": {
   "display_name": "Python 36 (PythonData)",
   "language": "python",
   "name": "pythondata"
  },
  "language_info": {
   "codemirror_mode": {
    "name": "ipython",
    "version": 3
   },
   "file_extension": ".py",
   "mimetype": "text/x-python",
   "name": "python",
   "nbconvert_exporter": "python",
   "pygments_lexer": "ipython3",
   "version": "3.6.8"
  }
 },
 "nbformat": 4,
 "nbformat_minor": 2
}
